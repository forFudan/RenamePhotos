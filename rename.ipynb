{
 "cells": [
  {
   "cell_type": "code",
   "execution_count": null,
   "metadata": {},
   "outputs": [],
   "source": [
    "\"\"\"\n",
    "Purpose:\n",
    "    Rename the photos in a path with the time taken (to second).\n",
    "\n",
    "Author:\n",
    "    Yuhao Zhu\n",
    "\n",
    "Versions:\n",
    "    20170425: Rename the photos in a path with the date_time_id.\n",
    "    20180423: Update the program. Now it is .py rather than .ipynb file.\n",
    "\"\"\""
   ]
  },
  {
   "cell_type": "code",
   "execution_count": 2,
   "metadata": {},
   "outputs": [],
   "source": [
    "import os\n",
    "import sys\n",
    "import exifread\n",
    "import datetime\n",
    "\n",
    "# Get the current working directory.\n",
    "path = os.getcwd()"
   ]
  },
  {
   "cell_type": "code",
   "execution_count": 3,
   "metadata": {},
   "outputs": [],
   "source": [
    "path = r'{}'.format(path)\n",
    "path = path.replace('\\\\', '/')\n",
    "directory, sub_directory, file_list = list(os.walk(path))[0]\n",
    "for i in range(len(file_list)):\n",
    "    file_list[i] = '{}/{}'.format(path, file_list[i])"
   ]
  },
  {
   "cell_type": "code",
   "execution_count": 4,
   "metadata": {},
   "outputs": [],
   "source": [
    "list_name_main = []\n",
    "for file in file_list:\n",
    "    # Get the extention of file.\n",
    "    extention = file.split('.')[-1]\n",
    "    if extention in ['CR2', 'JPG']:\n",
    "        read_photo = open(file, 'rb')\n",
    "        tags = exifread.process_file(read_photo)\n",
    "        try:\n",
    "            time_taken_str = str(tags['Image DateTime'])\n",
    "        except:\n",
    "            time_taken_str = str(tags['EXIF DateTimeOriginal'])\n",
    "        time_taken = datetime.datetime.strptime(time_taken_str, '%Y:%m:%d %H:%M:%S')\n",
    "        name_datetime = datetime.datetime.strftime(time_taken, '%Y%m%d_%H%M%S')\n",
    "        name_main = '{}_0001'.format(name_datetime)\n",
    "        # If the file name does not repeat.\n",
    "        while name_main in list_name_main:\n",
    "            name_main_split = name_main.split('_')\n",
    "            name_main_split[-1] = int(name_main_split[-1]) + 1\n",
    "            name_main = '{0}_{1}_{2:04}'.format(name_main_split[0], name_main_split[1], name_main_split[2])\n",
    "            name = '{}.{}'.format(name_main, extention)\n",
    "        if name_main not in list_name_main:\n",
    "            list_name_main.append(name_main)\n",
    "            name = '{}.{}'.format(name_main, extention)\n",
    "        new_name = '{}/{}'.format(path, name)\n",
    "        read_photo.close()\n",
    "#     print(file)\n",
    "#     print(new_name)\n",
    "        os.rename(file, new_name)"
   ]
  },
  {
   "cell_type": "code",
   "execution_count": null,
   "metadata": {},
   "outputs": [],
   "source": []
  }
 ],
 "metadata": {
  "jupytext": {
   "formats": "ipynb,py:light"
  },
  "kernelspec": {
   "display_name": "Python 3",
   "language": "python",
   "name": "python3"
  },
  "language_info": {
   "codemirror_mode": {
    "name": "ipython",
    "version": 3
   },
   "file_extension": ".py",
   "mimetype": "text/x-python",
   "name": "python",
   "nbconvert_exporter": "python",
   "pygments_lexer": "ipython3",
   "version": "3.7.1"
  }
 },
 "nbformat": 4,
 "nbformat_minor": 2
}
